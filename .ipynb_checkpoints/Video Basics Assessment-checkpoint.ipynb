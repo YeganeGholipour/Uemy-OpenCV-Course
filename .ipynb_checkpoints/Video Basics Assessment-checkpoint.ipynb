{
 "cells": [
  {
   "cell_type": "markdown",
   "id": "c970ddc9-164f-4f70-8854-e5185d8c6209",
   "metadata": {},
   "source": [
    "#### create a program that reads in live stream from a camera on your computer. Then whenever you click the left mouse button down create a blue circle where you've clicked."
   ]
  },
  {
   "cell_type": "code",
   "execution_count": null,
   "id": "c916e176-fe65-4c8e-ba42-148be5a93685",
   "metadata": {},
   "outputs": [],
   "source": [
    "import cv2\n",
    "\n",
    "def draw_circle(event, x, y, flags, params):\n",
    "    \n",
    "    global center, clicked\n",
    "    \n",
    "    if event == cv2.EVENT_LBUTTONDOWN:\n",
    "        clicked = False\n",
    "        center = (x,y)\n",
    "        \n",
    "    if event == cv2.EVENT_LBUTTONUP:\n",
    "        clicked = True\n",
    "    \n",
    "        \n",
    "\n",
    "## CONNECT TO CALLBACK\n",
    "\n",
    "cap = cv2.VideoCapture(0)\n",
    "\n",
    "cv2.namedWindow('Test')\n",
    "cv2.setMouseCallback('Test', draw_circle)\n",
    "\n",
    "\n",
    "## GLOBAL VARIABLES\n",
    "\n",
    "center = (0,0)\n",
    "clicked = False\n",
    "\n",
    "\n",
    "while True:\n",
    "    \n",
    "    ret, frame = cap.read()\n",
    "    \n",
    "    # DRAWING ON THE FRAME BASED OFF THE GLOBAL VARIABLES\n",
    "    \n",
    "    if clicked == True:\n",
    "        cv2.circle(frame, center, radius=50, color=(255,0,0), thickness=3)\n",
    "   \n",
    "    \n",
    "    cv2.imshow('Test', frame)\n",
    "    \n",
    "    if cv2.waitKey(1) & 0xFF == ord('q'):\n",
    "        break\n",
    "        \n",
    "cap.release()\n",
    "cv2.destroyAllWindows()\n",
    "\n"
   ]
  },
  {
   "cell_type": "code",
   "execution_count": null,
   "id": "8c864607-2a3b-4a01-96c4-68bc6e2285c2",
   "metadata": {},
   "outputs": [],
   "source": []
  }
 ],
 "metadata": {
  "kernelspec": {
   "display_name": "Python 3 (ipykernel)",
   "language": "python",
   "name": "python3"
  },
  "language_info": {
   "codemirror_mode": {
    "name": "ipython",
    "version": 3
   },
   "file_extension": ".py",
   "mimetype": "text/x-python",
   "name": "python",
   "nbconvert_exporter": "python",
   "pygments_lexer": "ipython3",
   "version": "3.9.13"
  }
 },
 "nbformat": 4,
 "nbformat_minor": 5
}
